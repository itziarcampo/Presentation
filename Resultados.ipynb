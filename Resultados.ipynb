{
 "cells": [
  {
   "cell_type": "code",
   "execution_count": null,
   "id": "30080354",
   "metadata": {},
   "outputs": [],
   "source": [
    "#Se saca por pantalla el resultado de la predicción\n",
    "    if KCNQ2e_y_ch_p == 0:\n",
    "        proba0 = KCNQ2eprob[0,0]*100\n",
    "        print(\"Benign mutation\")\n",
    "        if proba0<=60:\n",
    "            print(\"Success rate: VERY LOW\")\n",
    "        elif 60 < proba0 <=70:\n",
    "            print(\"Success rate: LOW\")\n",
    "        elif 70 < proba0 <=80:\n",
    "            print(\"Success rate: MODERATE\")\n",
    "        elif 80 < proba0 <=90:\n",
    "            print(\"Success rate: HIGH\")\n",
    "        elif 90< proba0:\n",
    "            print(\"Success rate: VERY HIGH\")\n",
    "    else:\n",
    "        proba1 = KCNQ2eprob[0,1]*100\n",
    "        print(\"Pathogenic mutation\")\n",
    "        if proba1<=60:\n",
    "            print(\"Success rate: VERY LOW\")\n",
    "        elif 60 < proba1 <=70:\n",
    "            print(\"Success rate: LOW\")\n",
    "        elif 70 < proba1 <=80:\n",
    "            print(\"Success rate: MODERATE\")\n",
    "        elif 80 < proba1 <=90:\n",
    "            print(\"Success rate: HIGH\")\n",
    "        elif 90< proba1:\n",
    "            print(\"Success rate: VERY HIGH\")"
   ]
  }
 ],
 "metadata": {
  "kernelspec": {
   "display_name": "Python 3 (ipykernel)",
   "language": "python",
   "name": "python3"
  },
  "language_info": {
   "codemirror_mode": {
    "name": "ipython",
    "version": 3
   },
   "file_extension": ".py",
   "mimetype": "text/x-python",
   "name": "python",
   "nbconvert_exporter": "python",
   "pygments_lexer": "ipython3",
   "version": "3.9.12"
  }
 },
 "nbformat": 4,
 "nbformat_minor": 5
}
